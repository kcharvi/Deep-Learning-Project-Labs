{
  "cells": [
    {
      "cell_type": "markdown",
      "metadata": {
        "id": "lh_FB-nSPGsO"
      },
      "source": [
        "\n",
        "# **Deep Learning - CSE4006**\n",
        "# LAB 4\n",
        "\n",
        "> ## Name: **K CHARVI**\n",
        "> ## Reg No: 19BCE7002\n",
        "> ## Date: 25|10|2021\n",
        "> ## Submitted To: Dr. BKSP Kumarraju Alluri\n"
      ]
    },
    {
      "cell_type": "markdown",
      "metadata": {
        "id": "wi-RIkyZPLby"
      },
      "source": [
        "# Project 2: Road Lane Detection\n"
      ]
    },
    {
      "cell_type": "code",
      "execution_count": null,
      "metadata": {
        "colab": {
          "base_uri": "https://localhost:8080/"
        },
        "id": "aY2sHZxHKfLR",
        "outputId": "d7485935-bb34-479d-b5cf-20e97addba0e"
      },
      "outputs": [
        {
          "name": "stdout",
          "output_type": "stream",
          "text": [
            "Cloning into 'MLND-Capstone'...\n",
            "remote: Enumerating objects: 301, done.\u001b[K\n",
            "remote: Counting objects: 100% (8/8), done.\u001b[K\n",
            "remote: Compressing objects: 100% (8/8), done.\u001b[K\n",
            "remote: Total 301 (delta 1), reused 3 (delta 0), pack-reused 293\u001b[K\n",
            "Receiving objects: 100% (301/301), 26.06 MiB | 21.87 MiB/s, done.\n",
            "Resolving deltas: 100% (146/146), done.\n"
          ]
        }
      ],
      "source": [
        "!git clone \"https://github.com/mvirgo/MLND-Capstone\""
      ]
    },
    {
      "cell_type": "code",
      "execution_count": 1,
      "metadata": {
        "colab": {
          "base_uri": "https://localhost:8080/"
        },
        "id": "lfcKoII8KrF3",
        "outputId": "a11e3331-620b-4179-cc7e-b7db46cfb9b5"
      },
      "outputs": [
        {
          "name": "stdout",
          "output_type": "stream",
          "text": [
            "/content/drive/MyDrive/Deep learning LAB\n"
          ]
        }
      ],
      "source": [
        "%cd /content/drive/MyDrive/Deep learning LAB"
      ]
    },
    {
      "cell_type": "code",
      "execution_count": 2,
      "metadata": {
        "id": "rS0tmim_Ku2v"
      },
      "outputs": [],
      "source": [
        "# Load training images\n",
        "import pickle\n",
        "train_images = pickle.load(open(\"full_CNN_train.p\", \"rb\" ))"
      ]
    },
    {
      "cell_type": "code",
      "execution_count": 3,
      "metadata": {
        "id": "ucF5K9ZDK-sz"
      },
      "outputs": [],
      "source": [
        "# Load image labels\n",
        "labels = pickle.load(open(\"full_CNN_labels.p\", \"rb\"))"
      ]
    },
    {
      "cell_type": "code",
      "execution_count": 4,
      "metadata": {
        "id": "SLXkbNBYLAyk"
      },
      "outputs": [],
      "source": [
        "# Make into arrays as the neural network wants these\n",
        "import numpy as np\n",
        "train_images = np.array(train_images)\n",
        "labels = np.array(labels)"
      ]
    },
    {
      "cell_type": "code",
      "execution_count": 5,
      "metadata": {
        "id": "xaRiBcvQLCZA"
      },
      "outputs": [],
      "source": [
        "# Normalize labels - training images get normalized to start in the network\n",
        "labels = labels / 255"
      ]
    },
    {
      "cell_type": "code",
      "execution_count": 6,
      "metadata": {
        "id": "AqyROh6GLEEO"
      },
      "outputs": [],
      "source": [
        "# Shuffle images along with their labels, then split into training/validation sets\n",
        "from sklearn.utils import shuffle\n",
        "train_images, labels = shuffle(train_images, labels)"
      ]
    },
    {
      "cell_type": "code",
      "execution_count": 7,
      "metadata": {
        "id": "XOs5d9GILFd5"
      },
      "outputs": [],
      "source": [
        "# Import necessary items from Keras\n",
        "from keras.models import Sequential\n",
        "from keras.layers import Activation, Dropout, UpSampling2D\n",
        "from keras.layers import Conv2DTranspose, Conv2D, MaxPooling2D\n",
        "from tensorflow.keras.layers import LayerNormalization\n",
        "from keras.preprocessing.image import ImageDataGenerator\n",
        "from keras import regularizers\n"
      ]
    },
    {
      "cell_type": "code",
      "execution_count": 8,
      "metadata": {
        "id": "0BN4Q1-dLH48"
      },
      "outputs": [],
      "source": [
        "def create_model(input_shape, pool_size):\n",
        "    # Create the actual neural network here\n",
        "    model = Sequential()\n",
        "    # Normalizes incoming inputs. First layer needs the input shape to work\n",
        "    model.add(LayerNormalization(input_shape=input_shape))\n",
        "\n",
        "    # Below layers were re-named for easier reading of model summary; this not necessary\n",
        "    # Conv Layer 1\n",
        "    model.add(Conv2D(8, (3, 3), padding='valid', strides=(1,1), activation = 'relu', name = 'Conv1'))\n",
        "\n",
        "    # Conv Layer 2\n",
        "    model.add(Conv2D(16, (3, 3), padding='valid', strides=(1,1), activation = 'relu', name = 'Conv2'))\n",
        "\n",
        "    # Pooling 1\n",
        "    model.add(MaxPooling2D(pool_size=pool_size))\n",
        "\n",
        "    # Conv Layer 3\n",
        "    model.add(Conv2D(16, (3, 3), padding='valid', strides=(1,1), activation = 'relu', name = 'Conv3'))\n",
        "    model.add(Dropout(0.2))\n",
        "\n",
        "    # Conv Layer 4\n",
        "    model.add(Conv2D(32, (3, 3), padding='valid', strides=(1,1), activation = 'relu', name = 'Conv4'))\n",
        "    model.add(Dropout(0.2))\n",
        "\n",
        "    # Conv Layer 5\n",
        "    model.add(Conv2D(32, (3, 3), padding='valid', strides=(1,1), activation = 'relu', name = 'Conv5'))\n",
        "    model.add(Dropout(0.2))\n",
        "\n",
        "    # Pooling 2\n",
        "    model.add(MaxPooling2D(pool_size=pool_size))\n",
        "\n",
        "    # Conv Layer 6\n",
        "    model.add(Conv2D(64, (3, 3), padding='valid', strides=(1,1), activation = 'relu', name = 'Conv6'))\n",
        "    model.add(Dropout(0.2))\n",
        "\n",
        "    # Conv Layer 7\n",
        "    model.add(Conv2D(64, (3, 3), padding='valid', strides=(1,1), activation = 'relu', name = 'Conv7'))\n",
        "    model.add(Dropout(0.2))\n",
        "\n",
        "    # Pooling 3\n",
        "    model.add(MaxPooling2D(pool_size=pool_size))\n",
        "\n",
        "    # Upsample 1\n",
        "    model.add(UpSampling2D(size=pool_size))\n",
        "\n",
        "    # Deconv 1\n",
        "    model.add(Conv2DTranspose(64, (3, 3), padding='valid', strides=(1,1), activation = 'relu', name = 'Deconv1'))\n",
        "    model.add(Dropout(0.2))\n",
        "\n",
        "    # Deconv 2\n",
        "    model.add(Conv2DTranspose(64, (3, 3), padding='valid', strides=(1,1), activation = 'relu', name = 'Deconv2'))\n",
        "    model.add(Dropout(0.2))\n",
        "\n",
        "    # Upsample 2\n",
        "    model.add(UpSampling2D(size=pool_size))\n",
        "\n",
        "    # Deconv 3\n",
        "    model.add(Conv2DTranspose(32, (3, 3), padding='valid', strides=(1,1), activation = 'relu', name = 'Deconv3'))\n",
        "    model.add(Dropout(0.2))\n",
        "\n",
        "    # Deconv 4\n",
        "    model.add(Conv2DTranspose(32, (3, 3), padding='valid', strides=(1,1), activation = 'relu', name = 'Deconv4'))\n",
        "    model.add(Dropout(0.2))\n",
        "\n",
        "    # Deconv 5\n",
        "    model.add(Conv2DTranspose(16, (3, 3), padding='valid', strides=(1,1), activation = 'relu', name = 'Deconv5'))\n",
        "    model.add(Dropout(0.2))\n",
        "\n",
        "    # Upsample 3\n",
        "    model.add(UpSampling2D(size=pool_size))\n",
        "\n",
        "    # Deconv 6\n",
        "    model.add(Conv2DTranspose(16, (3, 3), padding='valid', strides=(1,1), activation = 'relu', name = 'Deconv6'))\n",
        "\n",
        "    # Final layer - only including one channel so 1 filter\n",
        "    model.add(Conv2DTranspose(1, (3, 3), padding='valid', strides=(1,1), activation = 'relu', name = 'Final'))\n",
        "\n",
        "    return model\n"
      ]
    },
    {
      "cell_type": "code",
      "execution_count": 9,
      "metadata": {
        "id": "LZB5l9FWMvrL"
      },
      "outputs": [],
      "source": [
        "# Test size may be 10% or 20%\n",
        "from sklearn.model_selection import train_test_split\n",
        "X_train, X_val, y_train, y_val = train_test_split(train_images, labels, test_size=0.1)"
      ]
    },
    {
      "cell_type": "code",
      "execution_count": 10,
      "metadata": {
        "id": "ipUIJzoAM16E"
      },
      "outputs": [],
      "source": [
        "# Batch size, epochs and pool size below are all paramaters to fiddle with for optimization\n",
        "batch_size = 128\n",
        "epochs = 10\n",
        "pool_size = (2, 2)\n",
        "input_shape = X_train.shape[1:]\n"
      ]
    },
    {
      "cell_type": "code",
      "execution_count": 11,
      "metadata": {
        "id": "caDzZ9dINAXJ"
      },
      "outputs": [],
      "source": [
        "# Create the neural network\n",
        "model = create_model(input_shape, pool_size)"
      ]
    },
    {
      "cell_type": "code",
      "execution_count": 12,
      "metadata": {
        "id": "J-x8HRrRNDTd"
      },
      "outputs": [],
      "source": [
        "# Using a generator to help the model use less data\n",
        "# Channel shifts help with shadows slightly\n",
        "datagen = ImageDataGenerator(channel_shift_range=0.2)\n",
        "datagen.fit(X_train)"
      ]
    },
    {
      "cell_type": "code",
      "execution_count": 13,
      "metadata": {
        "colab": {
          "base_uri": "https://localhost:8080/"
        },
        "id": "kOebE4V2Omxd",
        "outputId": "d811fb76-b4e7-4425-8fbb-32022eabe468"
      },
      "outputs": [
        {
          "name": "stderr",
          "output_type": "stream",
          "text": [
            "/usr/local/lib/python3.7/dist-packages/keras/engine/training.py:1972: UserWarning: `Model.fit_generator` is deprecated and will be removed in a future version. Please use `Model.fit`, which supports generators.\n",
            "  warnings.warn('`Model.fit_generator` is deprecated and '\n"
          ]
        },
        {
          "name": "stdout",
          "output_type": "stream",
          "text": [
            "Epoch 1/10\n",
            "89/89 [==============================] - 83s 544ms/step - loss: 0.0676 - accuracy: 0.8866 - val_loss: 0.0694 - val_accuracy: 0.8572\n",
            "Epoch 2/10\n",
            "89/89 [==============================] - 44s 492ms/step - loss: 0.0288 - accuracy: 0.9360 - val_loss: 0.0286 - val_accuracy: 0.9395\n",
            "Epoch 3/10\n",
            "89/89 [==============================] - 44s 490ms/step - loss: 0.0218 - accuracy: 0.9436 - val_loss: 0.0291 - val_accuracy: 0.9363\n",
            "Epoch 4/10\n",
            "89/89 [==============================] - 44s 489ms/step - loss: 0.0189 - accuracy: 0.9466 - val_loss: 0.0192 - val_accuracy: 0.9461\n",
            "Epoch 5/10\n",
            "89/89 [==============================] - 44s 489ms/step - loss: 0.0168 - accuracy: 0.9488 - val_loss: 0.0217 - val_accuracy: 0.9438\n",
            "Epoch 6/10\n",
            "89/89 [==============================] - 44s 489ms/step - loss: 0.0158 - accuracy: 0.9497 - val_loss: 0.0172 - val_accuracy: 0.9479\n",
            "Epoch 7/10\n",
            "89/89 [==============================] - 44s 488ms/step - loss: 0.0150 - accuracy: 0.9505 - val_loss: 0.0166 - val_accuracy: 0.9484\n",
            "Epoch 8/10\n",
            "89/89 [==============================] - 44s 489ms/step - loss: 0.0140 - accuracy: 0.9514 - val_loss: 0.0146 - val_accuracy: 0.9509\n",
            "Epoch 9/10\n",
            "89/89 [==============================] - 44s 489ms/step - loss: 0.0134 - accuracy: 0.9520 - val_loss: 0.0133 - val_accuracy: 0.9519\n",
            "Epoch 10/10\n",
            "89/89 [==============================] - 44s 489ms/step - loss: 0.0129 - accuracy: 0.9524 - val_loss: 0.0128 - val_accuracy: 0.9524\n"
          ]
        }
      ],
      "source": [
        "# Compiling and training the model\n",
        "model.compile(optimizer='Adam', loss='mean_squared_error',metrics=['accuracy'])\n",
        "history=model.fit_generator(datagen.flow(X_train, y_train, batch_size=batch_size), steps_per_epoch=len(X_train)/batch_size,\n",
        "epochs=epochs, verbose=1, validation_data=(X_val, y_val))"
      ]
    },
    {
      "cell_type": "code",
      "execution_count": 14,
      "metadata": {
        "id": "TkemepAQOtGF"
      },
      "outputs": [],
      "source": [
        "# Freeze layers since training is done\n",
        "model.compile(optimizer='Adam', loss='mean_squared_error',metrics=['accuracy'])"
      ]
    },
    {
      "cell_type": "code",
      "execution_count": 15,
      "metadata": {
        "colab": {
          "base_uri": "https://localhost:8080/"
        },
        "id": "n39NYG_mO0xO",
        "outputId": "65389b7d-744c-4471-a7af-f435f4939224"
      },
      "outputs": [
        {
          "name": "stdout",
          "output_type": "stream",
          "text": [
            "Model: \"sequential\"\n",
            "_________________________________________________________________\n",
            "Layer (type)                 Output Shape              Param #   \n",
            "=================================================================\n",
            "layer_normalization (LayerNo (None, 80, 160, 3)        6         \n",
            "_________________________________________________________________\n",
            "Conv1 (Conv2D)               (None, 78, 158, 8)        224       \n",
            "_________________________________________________________________\n",
            "Conv2 (Conv2D)               (None, 76, 156, 16)       1168      \n",
            "_________________________________________________________________\n",
            "max_pooling2d (MaxPooling2D) (None, 38, 78, 16)        0         \n",
            "_________________________________________________________________\n",
            "Conv3 (Conv2D)               (None, 36, 76, 16)        2320      \n",
            "_________________________________________________________________\n",
            "dropout (Dropout)            (None, 36, 76, 16)        0         \n",
            "_________________________________________________________________\n",
            "Conv4 (Conv2D)               (None, 34, 74, 32)        4640      \n",
            "_________________________________________________________________\n",
            "dropout_1 (Dropout)          (None, 34, 74, 32)        0         \n",
            "_________________________________________________________________\n",
            "Conv5 (Conv2D)               (None, 32, 72, 32)        9248      \n",
            "_________________________________________________________________\n",
            "dropout_2 (Dropout)          (None, 32, 72, 32)        0         \n",
            "_________________________________________________________________\n",
            "max_pooling2d_1 (MaxPooling2 (None, 16, 36, 32)        0         \n",
            "_________________________________________________________________\n",
            "Conv6 (Conv2D)               (None, 14, 34, 64)        18496     \n",
            "_________________________________________________________________\n",
            "dropout_3 (Dropout)          (None, 14, 34, 64)        0         \n",
            "_________________________________________________________________\n",
            "Conv7 (Conv2D)               (None, 12, 32, 64)        36928     \n",
            "_________________________________________________________________\n",
            "dropout_4 (Dropout)          (None, 12, 32, 64)        0         \n",
            "_________________________________________________________________\n",
            "max_pooling2d_2 (MaxPooling2 (None, 6, 16, 64)         0         \n",
            "_________________________________________________________________\n",
            "up_sampling2d (UpSampling2D) (None, 12, 32, 64)        0         \n",
            "_________________________________________________________________\n",
            "Deconv1 (Conv2DTranspose)    (None, 14, 34, 64)        36928     \n",
            "_________________________________________________________________\n",
            "dropout_5 (Dropout)          (None, 14, 34, 64)        0         \n",
            "_________________________________________________________________\n",
            "Deconv2 (Conv2DTranspose)    (None, 16, 36, 64)        36928     \n",
            "_________________________________________________________________\n",
            "dropout_6 (Dropout)          (None, 16, 36, 64)        0         \n",
            "_________________________________________________________________\n",
            "up_sampling2d_1 (UpSampling2 (None, 32, 72, 64)        0         \n",
            "_________________________________________________________________\n",
            "Deconv3 (Conv2DTranspose)    (None, 34, 74, 32)        18464     \n",
            "_________________________________________________________________\n",
            "dropout_7 (Dropout)          (None, 34, 74, 32)        0         \n",
            "_________________________________________________________________\n",
            "Deconv4 (Conv2DTranspose)    (None, 36, 76, 32)        9248      \n",
            "_________________________________________________________________\n",
            "dropout_8 (Dropout)          (None, 36, 76, 32)        0         \n",
            "_________________________________________________________________\n",
            "Deconv5 (Conv2DTranspose)    (None, 38, 78, 16)        4624      \n",
            "_________________________________________________________________\n",
            "dropout_9 (Dropout)          (None, 38, 78, 16)        0         \n",
            "_________________________________________________________________\n",
            "up_sampling2d_2 (UpSampling2 (None, 76, 156, 16)       0         \n",
            "_________________________________________________________________\n",
            "Deconv6 (Conv2DTranspose)    (None, 78, 158, 16)       2320      \n",
            "_________________________________________________________________\n",
            "Final (Conv2DTranspose)      (None, 80, 160, 1)        145       \n",
            "=================================================================\n",
            "Total params: 181,687\n",
            "Trainable params: 181,687\n",
            "Non-trainable params: 0\n",
            "_________________________________________________________________\n"
          ]
        }
      ],
      "source": [
        "# Show summary of model\n",
        "model.summary()"
      ]
    },
    {
      "cell_type": "code",
      "execution_count": 16,
      "metadata": {
        "id": "tyNWifE4Q_Ng"
      },
      "outputs": [],
      "source": [
        "# Save model architecture and weights\n",
        "model.save('full_CNN_model.h5')"
      ]
    },
    {
      "cell_type": "code",
      "execution_count": null,
      "metadata": {
        "id": "oCCA0JdkdmNh"
      },
      "outputs": [],
      "source": []
    }
  ],
  "metadata": {
    "accelerator": "GPU",
    "colab": {
      "name": "DL LAB 4 Project 2.ipynb",
      "provenance": []
    },
    "kernelspec": {
      "display_name": "Python 3",
      "name": "python3"
    },
    "language_info": {
      "name": "python"
    }
  },
  "nbformat": 4,
  "nbformat_minor": 0
}
