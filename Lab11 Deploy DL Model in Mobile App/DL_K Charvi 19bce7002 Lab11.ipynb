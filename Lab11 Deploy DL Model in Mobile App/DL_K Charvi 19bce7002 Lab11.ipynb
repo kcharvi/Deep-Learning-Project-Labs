{
  "cells": [
    {
      "cell_type": "markdown",
      "metadata": {
        "id": "j4blfGP22wTo"
      },
      "source": [
        "**Deep Learning - CSE4006**\n",
        "# LAB 11\n",
        "> ## Name: **K CHARVI**\n",
        "> ## Reg No: 19BCE7002\n",
        "> ## Date: 12|11|2021\n",
        "> ## Submitted To: Dr. BKSP Kumarraju Alluri\n"
      ]
    },
    {
      "cell_type": "markdown",
      "metadata": {
        "id": "LP8ggelV8ukB"
      },
      "source": [
        "# Brain Tumor Classification\n",
        "\n",
        "## Categories: No Tumor, Pituitary Tumor, Glioma Tumor, Meningioma Tumor"
      ]
    },
    {
      "cell_type": "markdown",
      "metadata": {
        "id": "vLglPE1L3EDp"
      },
      "source": [
        "### Cloning repository for dataset"
      ]
    },
    {
      "cell_type": "code",
      "execution_count": null,
      "metadata": {
        "colab": {
          "base_uri": "https://localhost:8080/"
        },
        "id": "Zo2CEQ7jwGfV",
        "outputId": "a93d5eae-50f4-4315-cbba-4dca8e6f16f5"
      },
      "outputs": [
        {
          "name": "stdout",
          "output_type": "stream",
          "text": [
            "/content/drive/MyDrive\n",
            "Cloning into 'Brain-Tumor-Classification-DataSet'...\n",
            "remote: Enumerating objects: 3039, done.\u001b[K\n",
            "remote: Total 3039 (delta 0), reused 0 (delta 0), pack-reused 3039\u001b[K\n",
            "Receiving objects: 100% (3039/3039), 79.25 MiB | 11.78 MiB/s, done.\n",
            "Checking out files: 100% (3264/3264), done.\n"
          ]
        }
      ],
      "source": [
        "%cd /content/drive/MyDrive\n",
        "!git clone https://github.com/SartajBhuvaji/Brain-Tumor-Classification-DataSet.git"
      ]
    },
    {
      "cell_type": "markdown",
      "metadata": {
        "id": "ApAgxEsP3IkU"
      },
      "source": [
        "### Importing Necessary Libraries"
      ]
    },
    {
      "cell_type": "code",
      "execution_count": null,
      "metadata": {
        "id": "HPKi_qUbuCTe"
      },
      "outputs": [],
      "source": [
        "\n",
        "import os\n",
        "import numpy as np\n",
        "import pandas as pd\n",
        "import seaborn as sns\n",
        "import matplotlib.pyplot as plt\n",
        "%matplotlib inline\n",
        "import cv2\n",
        "from tqdm import tqdm\n",
        "from PIL import Image\n",
        "import io"
      ]
    },
    {
      "cell_type": "code",
      "execution_count": null,
      "metadata": {
        "id": "iAKrNGFfuQkH"
      },
      "outputs": [],
      "source": [
        "import tensorflow as tf\n",
        "from tensorflow.keras.preprocessing.image import ImageDataGenerator\n",
        "from sklearn.utils import shuffle\n",
        "from sklearn.model_selection import train_test_split\n",
        "from tensorflow.keras.applications import EfficientNetB2\n",
        "from keras.layers import GlobalAveragePooling2D, Dropout, Dense\n",
        "from keras.models import Model\n",
        "from tensorflow.keras.callbacks import EarlyStopping, ReduceLROnPlateau, TensorBoard, ModelCheckpoint\n",
        "from sklearn.metrics import classification_report, confusion_matrix"
      ]
    },
    {
      "cell_type": "markdown",
      "metadata": {
        "id": "w4894VTK3Xiv"
      },
      "source": [
        "### Data Preparation"
      ]
    },
    {
      "cell_type": "code",
      "execution_count": null,
      "metadata": {
        "colab": {
          "base_uri": "https://localhost:8080/"
        },
        "id": "w5GzAlKBubBb",
        "outputId": "44094ecd-678d-43e6-dbc0-0e7fcb494b12"
      },
      "outputs": [
        {
          "name": "stderr",
          "output_type": "stream",
          "text": [
            "100%|██████████| 826/826 [00:06<00:00, 128.51it/s]\n",
            "100%|██████████| 100/100 [00:00<00:00, 133.89it/s]\n",
            "100%|██████████| 822/822 [00:06<00:00, 132.19it/s]\n",
            "100%|██████████| 115/115 [00:00<00:00, 159.07it/s]\n",
            "100%|██████████| 395/395 [00:02<00:00, 152.23it/s]\n",
            "100%|██████████| 105/105 [00:00<00:00, 167.50it/s]\n",
            "100%|██████████| 827/827 [00:06<00:00, 128.91it/s]\n",
            "100%|██████████| 74/74 [00:00<00:00, 88.66it/s]\n"
          ]
        }
      ],
      "source": [
        "labels = ['glioma_tumor', 'meningioma_tumor', 'no_tumor', 'pituitary_tumor']\n",
        "X_train = []\n",
        "Y_train  = []\n",
        "X_test = []\n",
        "Y_test = []\n",
        "image_size=150\n",
        "\n",
        "for label in labels:\n",
        "    trainPath = os.path.join('/content/drive/MyDrive/Brain-Tumor-Classification-DataSet/Training',label)\n",
        "    for file in tqdm(os.listdir(trainPath)):\n",
        "        image = cv2.imread(os.path.join(trainPath, file))\n",
        "        image = cv2.resize(image, (image_size, image_size))\n",
        "        X_train.append(image)\n",
        "        Y_train.append(label)\n",
        "    \n",
        "    testPath = os.path.join('/content/drive/MyDrive/Brain-Tumor-Classification-DataSet/Testing',label)\n",
        "    for file in tqdm(os.listdir(testPath)):\n",
        "        image = cv2.imread(os.path.join(testPath, file))\n",
        "        image = cv2.resize(image, (image_size, image_size))\n",
        "        X_test.append(image)\n",
        "        Y_test.append(label)\n",
        "    \n",
        "X_train = np.array(X_train)\n",
        "X_test = np.array(X_test)"
      ]
    },
    {
      "cell_type": "markdown",
      "metadata": {
        "id": "zRAEv4gD3bgc"
      },
      "source": [
        "### Show sample images from each label"
      ]
    },
    {
      "cell_type": "code",
      "execution_count": null,
      "metadata": {
        "colab": {
          "base_uri": "https://localhost:8080/",
          "height": 189
        },
        "id": "FZDmGpMPurzu",
        "outputId": "ad435d30-9b83-421e-aa40-85e2b7ad3418"
      },
      "outputs": [
        {
          "data": {
            "image/png": "[encoded data removed]",
            "text/plain": [
              "<Figure size 1152x864 with 4 Axes>"
            ]
          },
          "metadata": {
            "needs_background": "light"
          },
          "output_type": "display_data"
        }
      ],
      "source": [
        "plt.figure(figsize=(16, 12))\n",
        "import matplotlib.image as mpimg\n",
        "path = '/content/drive/MyDrive/Brain-Tumor-Classification-DataSet/'\n",
        "fileNames = ['Training/glioma_tumor/gg (10).jpg', 'Training/meningioma_tumor/m (108).jpg', 'Training/no_tumor/image (16).jpg', 'Training/pituitary_tumor/p (12).jpg']\n",
        "fileLabels = ['glioma_tumor', 'meningioma_tumor', 'no_tumor', 'pituitary_tumor']\n",
        "\n",
        "for i in range(4):\n",
        "    ax = plt.subplot(4, 4, i +1)\n",
        "    img = mpimg.imread(path + fileNames[i])\n",
        "    img = cv2.resize(img, (150, 150))\n",
        "    plt.imshow(img)\n",
        "    plt.title(fileLabels[i])\n",
        "    plt.axis(\"off\")"
      ]
    },
    {
      "cell_type": "markdown",
      "metadata": {
        "id": "UqQvMIIc3ftb"
      },
      "source": [
        "### Shuffling the train set"
      ]
    },
    {
      "cell_type": "code",
      "execution_count": null,
      "metadata": {
        "id": "sYzrYyT8vBfk"
      },
      "outputs": [],
      "source": [
        "X_train, Y_train = shuffle(X_train, Y_train, random_state=28)"
      ]
    },
    {
      "cell_type": "code",
      "execution_count": null,
      "metadata": {
        "colab": {
          "base_uri": "https://localhost:8080/"
        },
        "id": "WMMmKrIRvBcO",
        "outputId": "e00c2a13-79e5-46c7-b955-cf11b43ad946"
      },
      "outputs": [
        {
          "data": {
            "text/plain": [
              "(2870, 150, 150, 3)"
            ]
          },
          "execution_count": 15,
          "metadata": {},
          "output_type": "execute_result"
        }
      ],
      "source": [
        "X_train.shape"
      ]
    },
    {
      "cell_type": "markdown",
      "metadata": {
        "id": "1IDfSIoV3kaY"
      },
      "source": [
        "#### Showing the counts of observations in each categorical bin using bars"
      ]
    },
    {
      "cell_type": "code",
      "execution_count": null,
      "metadata": {
        "colab": {
          "base_uri": "https://localhost:8080/",
          "height": 344
        },
        "id": "2cvnd8_rvBZq",
        "outputId": "005980c5-159c-4704-d4d1-029e65ae437f"
      },
      "outputs": [
        {
          "name": "stderr",
          "output_type": "stream",
          "text": [
            "/usr/local/lib/python3.7/dist-packages/seaborn/_decorators.py:43: FutureWarning: Pass the following variable as a keyword arg: x. From version 0.12, the only valid positional argument will be `data`, and passing other arguments without an explicit keyword will result in an error or misinterpretation.\n",
            "  FutureWarning\n"
          ]
        },
        {
          "data": {
            "text/plain": [
              "<matplotlib.axes._subplots.AxesSubplot at 0x7fe04ddbf390>"
            ]
          },
          "execution_count": 16,
          "metadata": {},
          "output_type": "execute_result"
        },
        {
          "data": {
            "image/png": "[encoded data removed]",
            "text/plain": [
              "<Figure size 432x288 with 1 Axes>"
            ]
          },
          "metadata": {
            "needs_background": "light"
          },
          "output_type": "display_data"
        }
      ],
      "source": [
        "sns.countplot(Y_test)"
      ]
    },
    {
      "cell_type": "markdown",
      "metadata": {
        "id": "bw33w9CQ3tSC"
      },
      "source": [
        "### One-Hot encoding"
      ]
    },
    {
      "cell_type": "code",
      "execution_count": null,
      "metadata": {
        "id": "iPv3Ksj3vBXl"
      },
      "outputs": [],
      "source": [
        "y_train_ = []\n",
        "for i in Y_train:\n",
        "    y_train_.append(labels.index(i))\n",
        "Y_train = y_train_\n",
        "\n",
        "Y_train = tf.keras.utils.to_categorical(Y_train)\n",
        "\n",
        "y_test_ = []\n",
        "for i in Y_test:\n",
        "    y_test_.append(labels.index(i))\n",
        "Y_test = y_test_\n",
        "\n",
        "Y_test = tf.keras.utils.to_categorical(Y_test)"
      ]
    },
    {
      "cell_type": "markdown",
      "metadata": {
        "id": "2I-hBGDX3xzN"
      },
      "source": [
        "### Split the data into training and validation subsets"
      ]
    },
    {
      "cell_type": "code",
      "execution_count": null,
      "metadata": {
        "id": "WKG713JvvBVg"
      },
      "outputs": [],
      "source": [
        "X_train, X_val, Y_train, Y_val = train_test_split(X_train, Y_train, test_size=0.2, random_state=28)"
      ]
    },
    {
      "cell_type": "markdown",
      "metadata": {
        "id": "usWQgoIS32Go"
      },
      "source": [
        "### Transfer Learning with EfficientNetB2"
      ]
    },
    {
      "cell_type": "code",
      "execution_count": null,
      "metadata": {
        "colab": {
          "base_uri": "https://localhost:8080/"
        },
        "id": "OUQBifxMvBT1",
        "outputId": "0142d2de-a2c8-44a5-95ab-67ed50fd0850"
      },
      "outputs": [
        {
          "name": "stdout",
          "output_type": "stream",
          "text": [
            "Downloading data from https://storage.googleapis.com/keras-applications/efficientnetb2_notop.h5\n",
            "31793152/31790344 [==============================] - 0s 0us/step\n",
            "31801344/31790344 [==============================] - 0s 0us/step\n"
          ]
        }
      ],
      "source": [
        "base_model = EfficientNetB2(weights='imagenet', include_top=False, input_shape=(image_size, image_size, 3))"
      ]
    },
    {
      "cell_type": "code",
      "execution_count": null,
      "metadata": {
        "id": "l7eGbjgKvBSA"
      },
      "outputs": [],
      "source": [
        "model = base_model.output\n",
        "model = GlobalAveragePooling2D()(model)\n",
        "model = Dense(4, activation='softmax')(model)\n",
        "model = Model(inputs = base_model.input, outputs=model)"
      ]
    },
    {
      "cell_type": "code",
      "execution_count": null,
      "metadata": {
        "id": "z1GOBwkzvBLe"
      },
      "outputs": [],
      "source": [
        "model.compile(loss='categorical_crossentropy', optimizer='Adam', metrics=['accuracy'])"
      ]
    },
    {
      "cell_type": "markdown",
      "metadata": {
        "id": "JEBg2na-8PKt"
      },
      "source": [
        "### Defining  Callbacks to save efficient model"
      ]
    },
    {
      "cell_type": "code",
      "execution_count": null,
      "metadata": {
        "id": "yBd8EdKEvBJK"
      },
      "outputs": [],
      "source": [
        "reduce_lr = ReduceLROnPlateau(monitor='val_accuracy', factor=0.3, patience=2, min_denta=0.0001, mode='auto', verbose=1)\n",
        "tensorboard = TensorBoard(log_dir='logs')\n",
        "checkpoint = ModelCheckpoint(\"brain_tumor_classification.h5\", monitor='val_accuracy', save_best_only=True, mode='auto', verbose=1)"
      ]
    },
    {
      "cell_type": "markdown",
      "metadata": {
        "id": "Ov9w-6rv8XH5"
      },
      "source": [
        "### Data Augmentation"
      ]
    },
    {
      "cell_type": "code",
      "execution_count": null,
      "metadata": {
        "id": "-ZEPKFqQvBG-"
      },
      "outputs": [],
      "source": [
        "datagen = ImageDataGenerator(\n",
        "featurewise_center=False,\n",
        "samplewise_center=False,\n",
        "featurewise_std_normalization=False,\n",
        "samplewise_std_normalization=False,\n",
        "zca_whitening=False,\n",
        "rotation_range=10,\n",
        "zoom_range=0.2,\n",
        "width_shift_range=0.2,\n",
        "horizontal_flip=False,\n",
        "vertical_flip=False)\n",
        "\n",
        "datagen.fit(X_train)"
      ]
    },
    {
      "cell_type": "markdown",
      "metadata": {
        "id": "6VQrCOC88c_p"
      },
      "source": [
        "### Training the Model"
      ]
    },
    {
      "cell_type": "code",
      "execution_count": null,
      "metadata": {
        "colab": {
          "base_uri": "https://localhost:8080/"
        },
        "id": "OXYPwcWdvBEc",
        "outputId": "9c320543-bb33-442f-d4cb-03cfec6ed06b"
      },
      "outputs": [
        {
          "name": "stderr",
          "output_type": "stream",
          "text": [
            "/usr/local/lib/python3.7/dist-packages/ipykernel_launcher.py:5: UserWarning: `Model.fit_generator` is deprecated and will be removed in a future version. Please use `Model.fit`, which supports generators.\n",
            "  \"\"\"\n",
            "/usr/local/lib/python3.7/dist-packages/keras/engine/functional.py:1410: CustomMaskWarning: Custom mask layers require a config and must override get_config. When loading, the custom mask layer must be passed to the custom_objects argument.\n",
            "  layer_config = serialize_layer_fn(layer)\n"
          ]
        },
        {
          "name": "stdout",
          "output_type": "stream",
          "text": [
            "Epoch 1/10\n",
            "72/72 [==============================] - ETA: 0s - loss: 0.2833 - accuracy: 0.9024\n",
            "Epoch 00001: val_accuracy improved from -inf to 0.89024, saving model to brain_tumor_classification.h5\n",
            "72/72 [==============================] - 40s 551ms/step - loss: 0.2833 - accuracy: 0.9024 - val_loss: 0.7186 - val_accuracy: 0.8902 - lr: 0.0010\n",
            "Epoch 2/10\n",
            "72/72 [==============================] - ETA: 0s - loss: 0.1785 - accuracy: 0.9368\n",
            "Epoch 00002: val_accuracy improved from 0.89024 to 0.90767, saving model to brain_tumor_classification.h5\n",
            "72/72 [==============================] - 38s 531ms/step - loss: 0.1785 - accuracy: 0.9368 - val_loss: 0.4213 - val_accuracy: 0.9077 - lr: 0.0010\n",
            "Epoch 3/10\n",
            "72/72 [==============================] - ETA: 0s - loss: 0.1616 - accuracy: 0.9434\n",
            "Epoch 00003: val_accuracy improved from 0.90767 to 0.94425, saving model to brain_tumor_classification.h5\n",
            "72/72 [==============================] - 37s 518ms/step - loss: 0.1616 - accuracy: 0.9434 - val_loss: 0.2530 - val_accuracy: 0.9443 - lr: 0.0010\n",
            "Epoch 4/10\n",
            "72/72 [==============================] - ETA: 0s - loss: 0.1431 - accuracy: 0.9495\n",
            "Epoch 00004: val_accuracy did not improve from 0.94425\n",
            "72/72 [==============================] - 34s 474ms/step - loss: 0.1431 - accuracy: 0.9495 - val_loss: 0.3369 - val_accuracy: 0.8937 - lr: 0.0010\n",
            "Epoch 5/10\n",
            "72/72 [==============================] - ETA: 0s - loss: 0.0997 - accuracy: 0.9669\n",
            "Epoch 00005: val_accuracy improved from 0.94425 to 0.95296, saving model to brain_tumor_classification.h5\n",
            "72/72 [==============================] - 37s 512ms/step - loss: 0.0997 - accuracy: 0.9669 - val_loss: 0.1545 - val_accuracy: 0.9530 - lr: 0.0010\n",
            "Epoch 6/10\n",
            "72/72 [==============================] - ETA: 0s - loss: 0.0978 - accuracy: 0.9682\n",
            "Epoch 00006: val_accuracy did not improve from 0.95296\n",
            "72/72 [==============================] - 35s 485ms/step - loss: 0.0978 - accuracy: 0.9682 - val_loss: 0.6061 - val_accuracy: 0.9129 - lr: 0.0010\n",
            "Epoch 7/10\n",
            "72/72 [==============================] - ETA: 0s - loss: 0.1045 - accuracy: 0.9652\n",
            "Epoch 00007: val_accuracy did not improve from 0.95296\n",
            "\n",
            "Epoch 00007: ReduceLROnPlateau reducing learning rate to 0.0003000000142492354.\n",
            "72/72 [==============================] - 34s 475ms/step - loss: 0.1045 - accuracy: 0.9652 - val_loss: 0.3334 - val_accuracy: 0.8990 - lr: 0.0010\n",
            "Epoch 8/10\n",
            "72/72 [==============================] - ETA: 0s - loss: 0.0587 - accuracy: 0.9791\n",
            "Epoch 00008: val_accuracy did not improve from 0.95296\n",
            "72/72 [==============================] - 35s 484ms/step - loss: 0.0587 - accuracy: 0.9791 - val_loss: 0.3599 - val_accuracy: 0.9216 - lr: 3.0000e-04\n",
            "Epoch 9/10\n",
            "72/72 [==============================] - ETA: 0s - loss: 0.0242 - accuracy: 0.9930\n",
            "Epoch 00009: val_accuracy did not improve from 0.95296\n",
            "\n",
            "Epoch 00009: ReduceLROnPlateau reducing learning rate to 9.000000427477062e-05.\n",
            "72/72 [==============================] - 35s 484ms/step - loss: 0.0242 - accuracy: 0.9930 - val_loss: 0.2053 - val_accuracy: 0.9512 - lr: 3.0000e-04\n",
            "Epoch 10/10\n",
            "72/72 [==============================] - ETA: 0s - loss: 0.0198 - accuracy: 0.9939\n",
            "Epoch 00010: val_accuracy did not improve from 0.95296\n",
            "72/72 [==============================] - 34s 473ms/step - loss: 0.0198 - accuracy: 0.9939 - val_loss: 0.1748 - val_accuracy: 0.9530 - lr: 9.0000e-05\n"
          ]
        }
      ],
      "source": [
        "history = model.fit_generator(datagen.flow(X_train, Y_train, batch_size=32),\n",
        "                              validation_data=(X_val, Y_val), \n",
        "                              epochs=10, \n",
        "                              verbose=1,\n",
        "                            callbacks=[tensorboard, checkpoint, reduce_lr])"
      ]
    },
    {
      "cell_type": "code",
      "execution_count": null,
      "metadata": {
        "colab": {
          "base_uri": "https://localhost:8080/"
        },
        "id": "O-LefiyP0q1o",
        "outputId": "448ae508-dfd3-488b-d07d-9f09761dde3d"
      },
      "outputs": [
        {
          "name": "stdout",
          "output_type": "stream",
          "text": [
            "/content/drive/MyDrive\n"
          ]
        }
      ],
      "source": [
        "!pwd"
      ]
    },
    {
      "cell_type": "markdown",
      "metadata": {
        "id": "95sPrtI58hU2"
      },
      "source": [
        "### Evaluate the model"
      ]
    },
    {
      "cell_type": "code",
      "execution_count": null,
      "metadata": {
        "id": "nvcOxNnSxgQb"
      },
      "outputs": [],
      "source": [
        "pred = model.predict(X_test)\n",
        "pred = np.argmax(pred,axis=1)\n",
        "y_test_new = np.argmax(Y_test,axis=1)"
      ]
    },
    {
      "cell_type": "code",
      "execution_count": null,
      "metadata": {
        "colab": {
          "base_uri": "https://localhost:8080/"
        },
        "id": "mUYrBzpuysmO",
        "outputId": "7263abb7-7066-4222-af5a-f8c6c7ed0bc5"
      },
      "outputs": [
        {
          "name": "stdout",
          "output_type": "stream",
          "text": [
            "Accuracy on testing dataset: 78.68%\n"
          ]
        }
      ],
      "source": [
        "accuracy = np.sum(pred==y_test_new)/len(pred)\n",
        "print(\"Accuracy on testing dataset: {:.2f}%\".format(accuracy*100))"
      ]
    },
    {
      "cell_type": "markdown",
      "metadata": {
        "id": "tF0t7KBA8pFs"
      },
      "source": [
        "### Export the model to TFLITE"
      ]
    },
    {
      "cell_type": "code",
      "execution_count": null,
      "metadata": {
        "id": "kgej9NWOysjA"
      },
      "outputs": [],
      "source": [
        "new_model = tf.keras.models.load_model('./brain_tumor_classification.h5')"
      ]
    },
    {
      "cell_type": "code",
      "execution_count": null,
      "metadata": {
        "colab": {
          "base_uri": "https://localhost:8080/"
        },
        "id": "9UxEoc8wyshX",
        "outputId": "9c3afeb3-7ab3-4345-f9a1-77f5ba098b62"
      },
      "outputs": [
        {
          "name": "stdout",
          "output_type": "stream",
          "text": [
            "INFO:tensorflow:Assets written to: /tmp/tmpi6nehg8q/assets\n"
          ]
        },
        {
          "name": "stderr",
          "output_type": "stream",
          "text": [
            "WARNING:absl:Buffer deduplication procedure will be skipped when flatbuffer library is not properly loaded\n"
          ]
        },
        {
          "data": {
            "text/plain": [
              "30803592"
            ]
          },
          "execution_count": 31,
          "metadata": {},
          "output_type": "execute_result"
        }
      ],
      "source": [
        "import tensorflow as tf\n",
        "\n",
        "converter = tf.lite.TFLiteConverter.from_keras_model(new_model)\n",
        "tflite_model = converter.convert()\n",
        "open(\"model_19bce7002_trial2.tflite\", \"wb\").write(tflite_model)"
      ]
    },
    {
      "cell_type": "code",
      "execution_count": null,
      "metadata": {
        "id": "_Nub4rGOysff"
      },
      "outputs": [],
      "source": []
    },
    {
      "cell_type": "code",
      "execution_count": null,
      "metadata": {
        "id": "GpEkcUp4yscG"
      },
      "outputs": [],
      "source": []
    }
  ],
  "metadata": {
    "accelerator": "GPU",
    "colab": {
      "name": "DL Lab11 Trial 2.ipynb",
      "provenance": []
    },
    "kernelspec": {
      "display_name": "Python 3",
      "name": "python3"
    },
    "language_info": {
      "name": "python"
    }
  },
  "nbformat": 4,
  "nbformat_minor": 0
}
