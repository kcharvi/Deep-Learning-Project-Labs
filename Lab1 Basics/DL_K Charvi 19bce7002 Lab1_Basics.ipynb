{
  "cells": [
    {
      "cell_type": "markdown",
      "metadata": {
        "id": "_xlOi2fio6OF"
      },
      "source": [
        "**Deep Learning - CSE4006**\n",
        "# LAB 1\n",
        "\n",
        "> ## Name: **K CHARVI**\n",
        "> ## Reg No: 19BCE7002\n",
        "> ## Date: 18|10|2021\n",
        "> ## Submitted To: Dr. BKSP Kumarraju Alluri\n"
      ]
    },
    {
      "cell_type": "markdown",
      "metadata": {},
      "source": [
        "# Basics"
      ]
    },
    {
      "cell_type": "markdown",
      "metadata": {
        "id": "VjT8K91ojg0X"
      },
      "source": [
        "**Even or Odd**"
      ]
    },
    {
      "cell_type": "code",
      "execution_count": null,
      "metadata": {
        "colab": {
          "base_uri": "https://localhost:8080/"
        },
        "id": "QvwpcOgriLGE",
        "outputId": "325fbfd4-7d73-45fa-9fe4-92c3b296ef99"
      },
      "outputs": [
        {
          "name": "stdout",
          "output_type": "stream",
          "text": [
            "Enter a number: 23\n",
            "23 is Odd number\n"
          ]
        }
      ],
      "source": [
        "num = int(input(\"Enter a number: \"))  \n",
        "if (num % 2) == 0:  \n",
        "   print(\"{0} is Even number\".format(num))  \n",
        "else:  \n",
        "   print(\"{0} is Odd number\".format(num))  "
      ]
    },
    {
      "cell_type": "code",
      "execution_count": null,
      "metadata": {
        "id": "SOVRmx4glKB_"
      },
      "outputs": [],
      "source": [
        "import torch"
      ]
    },
    {
      "cell_type": "code",
      "execution_count": null,
      "metadata": {
        "colab": {
          "base_uri": "https://localhost:8080/"
        },
        "id": "8eMlXGQalTkm",
        "outputId": "28dd1572-fca6-4c5a-a9d1-a6f2f1cec74c"
      },
      "outputs": [
        {
          "data": {
            "text/plain": [
              "tensor([[1., 1.],\n",
              "        [1., 1.],\n",
              "        [1., 1.]])"
            ]
          },
          "execution_count": 3,
          "metadata": {},
          "output_type": "execute_result"
        }
      ],
      "source": [
        "torch.ones(3,2)"
      ]
    },
    {
      "cell_type": "code",
      "execution_count": null,
      "metadata": {
        "colab": {
          "base_uri": "https://localhost:8080/"
        },
        "id": "oU55y65-mU7s",
        "outputId": "28f44dee-1d01-433c-e4aa-d04f14fa5d39"
      },
      "outputs": [
        {
          "data": {
            "text/plain": [
              "tensor([[0., 0.],\n",
              "        [0., 0.],\n",
              "        [0., 0.]])"
            ]
          },
          "execution_count": 4,
          "metadata": {},
          "output_type": "execute_result"
        }
      ],
      "source": [
        "torch.zeros(3,2)"
      ]
    },
    {
      "cell_type": "code",
      "execution_count": null,
      "metadata": {
        "colab": {
          "base_uri": "https://localhost:8080/"
        },
        "id": "qkx87iOJmgrD",
        "outputId": "507064bb-47c5-4370-c66c-39c00bc2ed9d"
      },
      "outputs": [
        {
          "data": {
            "text/plain": [
              "tensor([[0.9267, 0.6597],\n",
              "        [0.0560, 0.9790],\n",
              "        [0.3235, 0.7738]])"
            ]
          },
          "execution_count": 5,
          "metadata": {},
          "output_type": "execute_result"
        }
      ],
      "source": [
        "torch.rand(3,2)"
      ]
    },
    {
      "cell_type": "code",
      "execution_count": null,
      "metadata": {
        "id": "h4dU4shSmpox"
      },
      "outputs": [],
      "source": [
        "p=torch.tensor([[4,5],[6,7],[8,9]])"
      ]
    },
    {
      "cell_type": "code",
      "execution_count": null,
      "metadata": {
        "colab": {
          "base_uri": "https://localhost:8080/"
        },
        "id": "tWws8DAPnTZP",
        "outputId": "68e7aa59-883d-4df9-d2f7-97406125f083"
      },
      "outputs": [
        {
          "data": {
            "text/plain": [
              "torch.Size([3, 2])"
            ]
          },
          "execution_count": 7,
          "metadata": {},
          "output_type": "execute_result"
        }
      ],
      "source": [
        "p.size()"
      ]
    },
    {
      "cell_type": "code",
      "execution_count": null,
      "metadata": {
        "colab": {
          "base_uri": "https://localhost:8080/"
        },
        "id": "fbP9jaQ4n7av",
        "outputId": "9685cec4-5fde-4cf7-d1e7-d84712a7615f"
      },
      "outputs": [
        {
          "data": {
            "text/plain": [
              "tensor([5, 7, 9])"
            ]
          },
          "execution_count": 8,
          "metadata": {},
          "output_type": "execute_result"
        }
      ],
      "source": [
        "p[:,1]"
      ]
    },
    {
      "cell_type": "code",
      "execution_count": null,
      "metadata": {
        "id": "HdEDdRTon-vW"
      },
      "outputs": [],
      "source": [
        "n=torch.tensor([[4,4],[2,3]])\n",
        "m=torch.tensor([[1,7],[8,6]])"
      ]
    },
    {
      "cell_type": "code",
      "execution_count": null,
      "metadata": {
        "colab": {
          "base_uri": "https://localhost:8080/"
        },
        "id": "xHpkkKn1oiL3",
        "outputId": "6025d190-816a-4a03-c8a3-58cc84426aa5"
      },
      "outputs": [
        {
          "data": {
            "text/plain": [
              "tensor([[ 4, 28],\n",
              "        [16, 18]])"
            ]
          },
          "execution_count": 10,
          "metadata": {},
          "output_type": "execute_result"
        }
      ],
      "source": [
        "n*m"
      ]
    },
    {
      "cell_type": "code",
      "execution_count": null,
      "metadata": {
        "colab": {
          "base_uri": "https://localhost:8080/"
        },
        "id": "5simIjGYojGe",
        "outputId": "7eed843a-f151-41ca-937c-d35d768cd35a"
      },
      "outputs": [
        {
          "data": {
            "text/plain": [
              "tensor([[ 5, 11],\n",
              "        [10,  9]])"
            ]
          },
          "execution_count": 11,
          "metadata": {},
          "output_type": "execute_result"
        }
      ],
      "source": [
        "n+m"
      ]
    },
    {
      "cell_type": "code",
      "execution_count": null,
      "metadata": {
        "colab": {
          "base_uri": "https://localhost:8080/"
        },
        "id": "oqHtmUvHokkG",
        "outputId": "f715b391-95a6-4931-fb4a-10525e9fb675"
      },
      "outputs": [
        {
          "data": {
            "text/plain": [
              "tensor([[4.0000, 0.5714],\n",
              "        [0.2500, 0.5000]])"
            ]
          },
          "execution_count": 12,
          "metadata": {},
          "output_type": "execute_result"
        }
      ],
      "source": [
        "n/m"
      ]
    },
    {
      "cell_type": "code",
      "execution_count": null,
      "metadata": {
        "colab": {
          "base_uri": "https://localhost:8080/"
        },
        "id": "Lyx9uYOvollm",
        "outputId": "3d66019f-0f68-4ec5-98c2-362a421e0ba4"
      },
      "outputs": [
        {
          "data": {
            "text/plain": [
              "tensor([[ 3, -3],\n",
              "        [-6, -3]])"
            ]
          },
          "execution_count": 13,
          "metadata": {},
          "output_type": "execute_result"
        }
      ],
      "source": [
        "n-m"
      ]
    },
    {
      "cell_type": "markdown",
      "metadata": {
        "id": "KZYcpFKzo1QV"
      },
      "source": [
        "# Gradient Descent"
      ]
    },
    {
      "cell_type": "code",
      "execution_count": null,
      "metadata": {
        "id": "4UHFDTjHomsl"
      },
      "outputs": [],
      "source": [
        "import numpy as np"
      ]
    },
    {
      "cell_type": "code",
      "execution_count": null,
      "metadata": {
        "colab": {
          "base_uri": "https://localhost:8080/"
        },
        "id": "-vn6eVvqoyAw",
        "outputId": "ce1432ad-494a-4122-a670-7324c78002c0"
      },
      "outputs": [
        {
          "name": "stdout",
          "output_type": "stream",
          "text": [
            "CPU times: user 1min 26s, sys: 1.21 s, total: 1min 28s\n",
            "Wall time: 1min 28s\n"
          ]
        }
      ],
      "source": [
        "%%time\n",
        "for i in range(0,10):\n",
        "  arr=np.random.randn(10000,10000)\n",
        "  brr=np.random.randn(10000,10000)\n",
        "  c=arr+brr"
      ]
    },
    {
      "cell_type": "code",
      "execution_count": null,
      "metadata": {
        "colab": {
          "base_uri": "https://localhost:8080/"
        },
        "id": "89NBUiOtox4o",
        "outputId": "c1cb2f5d-7d5b-44ec-a42f-3e37e65a7d88"
      },
      "outputs": [
        {
          "name": "stdout",
          "output_type": "stream",
          "text": [
            "CPU times: user 16.8 s, sys: 78.1 ms, total: 16.9 s\n",
            "Wall time: 16.9 s\n"
          ]
        }
      ],
      "source": [
        "%%time\n",
        "for i in range(0,10):\n",
        "  arr=torch.randn([10000,10000])\n",
        "  brr=torch.randn([10000,10000])\n",
        "  c=arr+brr"
      ]
    },
    {
      "cell_type": "code",
      "execution_count": null,
      "metadata": {
        "colab": {
          "base_uri": "https://localhost:8080/"
        },
        "id": "YsPGMyp_ox19",
        "outputId": "8483f8ea-e893-400e-81e8-bed1ae8b1ce4"
      },
      "outputs": [
        {
          "name": "stdout",
          "output_type": "stream",
          "text": [
            "tensor([[1., 1.],\n",
            "        [1., 1.],\n",
            "        [1., 1.]], requires_grad=True)\n",
            "tensor([[6., 6.],\n",
            "        [6., 6.],\n",
            "        [6., 6.]], grad_fn=<AddBackward0>)\n",
            "tensor(36., grad_fn=<SumBackward0>)\n",
            "tensor([[2., 2.],\n",
            "        [2., 2.],\n",
            "        [2., 2.]])\n"
          ]
        }
      ],
      "source": [
        "#Calculation of gradients\n",
        "x = torch.ones([3, 2], requires_grad=True)\n",
        "print(x)\n",
        "\n",
        "y = x*x + 5\n",
        "print(y)\n",
        "\n",
        "p = torch.sum(y)\n",
        "print(p)\n",
        "\n",
        "p.backward()\n",
        "\n",
        "print(x.grad)"
      ]
    },
    {
      "cell_type": "code",
      "execution_count": null,
      "metadata": {
        "colab": {
          "base_uri": "https://localhost:8080/"
        },
        "id": "1QNHdbwUoxze",
        "outputId": "a35a8dba-d80d-4486-b90a-fbd898d1dfef"
      },
      "outputs": [
        {
          "name": "stdout",
          "output_type": "stream",
          "text": [
            "Old w tensor([1.], requires_grad=True)\n",
            "Old b tensor([1.], requires_grad=True)\n",
            "tensor(202.9072, grad_fn=<SumBackward0>)\n",
            "tensor([-25.6266]) tensor([118.1871])\n"
          ]
        }
      ],
      "source": [
        "#GRADIENT DESCENT\n",
        "x = torch.randn([20, 1], requires_grad=True)\n",
        "y = 3*x - 2\n",
        "\n",
        "\n",
        "w = torch.tensor([1.], requires_grad=True) \n",
        "b = torch.tensor([1.], requires_grad=True) \n",
        "print(\"Old w\" , w)\n",
        "print(\"Old b\" , b)\n",
        "y_hat = w*x + b\n",
        "loss = torch.sum((y_hat - y)**2)\n",
        "print(loss)\n",
        "\n",
        "loss.backward()\n",
        "\n",
        "print(w.grad, b.grad)"
      ]
    },
    {
      "cell_type": "markdown",
      "metadata": {
        "id": "z_49zG-9w823"
      },
      "source": [
        "# Question 1"
      ]
    },
    {
      "cell_type": "code",
      "execution_count": null,
      "metadata": {
        "id": "4-R49Bhhoxw9"
      },
      "outputs": [],
      "source": [
        "# Prereq: You should use only torch library\n",
        "\n",
        "# Step 1: Initialize w and b to random values\n",
        "\n",
        "# Step 2: Assume you have 10000 x values and you have to predict corresponding y. #Consider the true f(x) as y=3*x-2\n",
        "\n",
        "# Step 3: Calculate predicted y as w*x + b\n",
        "\n",
        "# Step 4: Calculate Squared Error Loss\n",
        "\n",
        "# Step 5: Calculate dL/dw and dL/db\n",
        "\n",
        "# Step 6: Update w and b using the basic gradient descent algorith\n",
        "\n",
        "# Note: Put Lines from Step 2 to Step 6 in a loop\n",
        "\n"
      ]
    },
    {
      "cell_type": "code",
      "execution_count": null,
      "metadata": {
        "colab": {
          "base_uri": "https://localhost:8080/"
        },
        "id": "NWc9tM3ZlpZM",
        "outputId": "85df0fd7-c8f9-4af4-d6e9-f73ce54985de"
      },
      "outputs": [
        {
          "name": "stdout",
          "output_type": "stream",
          "text": [
            "tensor(131413.2969, grad_fn=<SumBackward0>)\n"
          ]
        }
      ],
      "source": [
        "w = torch.tensor([1.], requires_grad=True) \n",
        "b = torch.tensor([1.], requires_grad=True) \n",
        "\n",
        "x = torch.randn([10000, 1], requires_grad=True)\n",
        "y = 3*x - 2\n",
        " \n",
        "y_hat = w*x + b\n",
        " \n",
        "loss = torch.sum((y_hat - y)**2)\n",
        "print(loss)\n",
        "\n",
        "loss.backward()\n",
        " \n",
        "with torch.no_grad(): \n",
        "  w -= 0.01 * w.grad\n",
        "  b -= 0.01 * b.grad\n"
      ]
    },
    {
      "cell_type": "code",
      "execution_count": null,
      "metadata": {
        "colab": {
          "base_uri": "https://localhost:8080/"
        },
        "id": "QUbYmJeyoxuf",
        "outputId": "49ecdb8c-d865-43f5-ca71-2758bafdc326"
      },
      "outputs": [
        {
          "name": "stdout",
          "output_type": "stream",
          "text": [
            "1.0 1.0\n",
            "-7.030817135631515e+29 1.05006329551071e+30\n"
          ]
        }
      ],
      "source": [
        "learning_rate = 0.01\n",
        "\n",
        "w = torch.tensor([1.], requires_grad=True) \n",
        "b = torch.tensor([1.], requires_grad=True) \n",
        "\n",
        "\n",
        "print(w.item(), b.item()) \n",
        "\n",
        "for i in range(10000):\n",
        "\n",
        "  x = torch.randn([1, 1]) \n",
        "  y = 3*x - 2 \n",
        "\n",
        "  \n",
        "  y_hat = w*x + b\n",
        "  loss = torch.sum((y_hat - y)**2)\n",
        "  \n",
        "  loss.backward() \n",
        "  \n",
        "  with torch.no_grad(): \n",
        "    w -= learning_rate * w.grad \n",
        "    #b gradient \n",
        "    b -= learning_rate * b.grad\n",
        "    \n",
        "    # w.grad.zero_() \n",
        "    # b.grad.zero_()\n",
        "\n",
        "print(w.item(), b.item())"
      ]
    },
    {
      "cell_type": "code",
      "execution_count": null,
      "metadata": {
        "id": "lr5w-woyoxsF"
      },
      "outputs": [],
      "source": []
    },
    {
      "cell_type": "code",
      "execution_count": null,
      "metadata": {
        "id": "hdRC2dI5oxpm"
      },
      "outputs": [],
      "source": []
    },
    {
      "cell_type": "code",
      "execution_count": null,
      "metadata": {
        "id": "yStP-m6yoxmm"
      },
      "outputs": [],
      "source": []
    },
    {
      "cell_type": "code",
      "execution_count": null,
      "metadata": {
        "id": "ep39EmN1oxhm"
      },
      "outputs": [],
      "source": []
    }
  ],
  "metadata": {
    "colab": {
      "collapsed_sections": [],
      "name": "DL Lab1 18Oct.ipynb",
      "provenance": []
    },
    "kernelspec": {
      "display_name": "Python 3",
      "name": "python3"
    },
    "language_info": {
      "name": "python"
    }
  },
  "nbformat": 4,
  "nbformat_minor": 0
}
